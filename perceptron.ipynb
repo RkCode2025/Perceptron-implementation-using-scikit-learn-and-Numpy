{
 "cells": [
  {
   "cell_type": "code",
   "execution_count": 1,
   "id": "4713dfe6",
   "metadata": {},
   "outputs": [],
   "source": [
    "import numpy as np\n",
    "import sklearn"
   ]
  },
  {
   "cell_type": "code",
   "execution_count": 2,
   "id": "aef95015",
   "metadata": {},
   "outputs": [],
   "source": [
    "class perceptron:\n",
    "\n",
    "    def __init__(self, l_r=0.01, epochs=200, random_state=1):\n",
    "        self.l_r = l_r\n",
    "        self.epochs = epochs\n",
    "        self.random_state = random_state\n",
    "\n",
    "    def fit(self, X, y):\n",
    "        regen = np.random.RandomState(self.random_state)\n",
    "\n",
    "        self.w_ = regen.normal(loc=0.0, scale=0.01, size= X.shape[1])\n",
    "\n",
    "        self.b_ = np.float64(0.)\n",
    "        self.errors = []\n",
    "\n",
    "        for _ in range(self.epochs):\n",
    "            errors = 0\n",
    "            for xi ,target in zip(X, y):\n",
    "                update = self.l_r *(target - self.predict(xi))\n",
    "                self.w_ += update*xi\n",
    "                self.b_ += update\n",
    "                errors += int(update != 0.0)\n",
    "            self.errors.append(errors)\n",
    "        return self\n",
    "    \n",
    "    def net_input(self, X):\n",
    "        \"\"\"Calculate net input\"\"\"\n",
    "        return np.dot(X, self.w_) + self.b_\n",
    "    \n",
    "    def predict(self, X):\n",
    "        \"\"\"Return class label after unit step\"\"\"\n",
    "        return np.where(self.net_input(X) >= 0.0, 1, 0)\n",
    "\n"
   ]
  },
  {
   "cell_type": "code",
   "execution_count": 39,
   "id": "94e59590",
   "metadata": {},
   "outputs": [],
   "source": [
    "X = np.array([\n",
    "    [2.0, 3.0],\n",
    "    [1.0, 5.0],\n",
    "    [2.5, 1.0],\n",
    "    [0.5, 0.5],\n",
    "    [3.0, 2.0]\n",
    "])\n",
    "\n",
    "# Labels: 0 or 1\n",
    "y = np.array([1, 1, 0, 0, 1])"
   ]
  },
  {
   "cell_type": "code",
   "execution_count": 42,
   "id": "fc7cbdd2",
   "metadata": {},
   "outputs": [
    {
     "data": {
      "text/plain": [
       "<__main__.perceptron at 0x12fc35fea40>"
      ]
     },
     "execution_count": 42,
     "metadata": {},
     "output_type": "execute_result"
    }
   ],
   "source": [
    "ppn = perceptron(l_r=0.01, epochs=50, random_state=1)\n",
    "ppn.fit(X, y)"
   ]
  },
  {
   "cell_type": "code",
   "execution_count": 38,
   "id": "6a7c2c2a",
   "metadata": {},
   "outputs": [],
   "source": [
    "X_test = np.array([\n",
    "    [1.5, 2.0],  # class 0\n",
    "    [2.0, 3.5],  # class 1\n",
    "    [0.5, 1.0],  # class 0\n",
    "    [3.0, 3.5],  # class 1\n",
    "    [2.5, 0.5],  # class 0\n",
    "    [3.5, 4.0],  # class 1\n",
    "])\n",
    "y_test = np.array([0, 1, 0, 1, 0, 1])"
   ]
  },
  {
   "cell_type": "code",
   "execution_count": 41,
   "id": "76320706",
   "metadata": {},
   "outputs": [
    {
     "data": {
      "text/plain": [
       "array([1, 1, 1, 1, 0, 1])"
      ]
     },
     "execution_count": 41,
     "metadata": {},
     "output_type": "execute_result"
    }
   ],
   "source": [
    "ppn.predict(X_test)"
   ]
  },
  {
   "cell_type": "markdown",
   "id": "b8fe0dc9",
   "metadata": {},
   "source": [
    "**IRIS DATASET TECHNIQUE**"
   ]
  },
  {
   "cell_type": "code",
   "execution_count": null,
   "id": "3cbba743",
   "metadata": {},
   "outputs": [
    {
     "name": "stdout",
     "output_type": "stream",
     "text": [
      "From URL: https://archive.ics.uci.edu/ml/machine-learning-databases/iris/iris.data\n",
      "     sepal_length  sepal_width  petal_length  petal_width           class\n",
      "145           6.7          3.0           5.2          2.3  Iris-virginica\n",
      "146           6.3          2.5           5.0          1.9  Iris-virginica\n",
      "147           6.5          3.0           5.2          2.0  Iris-virginica\n",
      "148           6.2          3.4           5.4          2.3  Iris-virginica\n",
      "149           5.9          3.0           5.1          1.8  Iris-virginica\n"
     ]
    }
   ],
   "source": [
    "import os\n",
    "import pandas as pd\n",
    "\n",
    "s = 'https://archive.ics.uci.edu/ml/machine-learning-databases/iris/iris.data'\n",
    "print('From URL:', s)\n",
    "\n",
    "df = pd.read_csv(s, header=None, encoding='utf-8')\n",
    "\n",
    "# Add column names (optional, but makes life easier)\n",
    "df.columns = ['sepal_length', 'sepal_width', 'petal_length', 'petal_width', 'class']\n",
    "\n",
    "print(df.tail())"
   ]
  },
  {
   "cell_type": "code",
   "execution_count": null,
   "id": "6ff0df2c",
   "metadata": {},
   "outputs": [],
   "source": []
  }
 ],
 "metadata": {
  "kernelspec": {
   "display_name": "Python 3",
   "language": "python",
   "name": "python3"
  },
  "language_info": {
   "codemirror_mode": {
    "name": "ipython",
    "version": 3
   },
   "file_extension": ".py",
   "mimetype": "text/x-python",
   "name": "python",
   "nbconvert_exporter": "python",
   "pygments_lexer": "ipython3",
   "version": "3.10.9"
  }
 },
 "nbformat": 4,
 "nbformat_minor": 5
}
